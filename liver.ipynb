{
 "cells": [
  {
   "cell_type": "code",
   "execution_count": 1,
   "metadata": {},
   "outputs": [
    {
     "name": "stdout",
     "output_type": "stream",
     "text": [
      "{'uci_id': 225, 'name': 'ILPD (Indian Liver Patient Dataset)', 'repository_url': 'https://archive.ics.uci.edu/dataset/225/ilpd+indian+liver+patient+dataset', 'data_url': 'https://archive.ics.uci.edu/static/public/225/data.csv', 'abstract': 'Death by liver cirrhosis continues to increase, given the increase in alcohol consumption rates, chronic hepatitis infections, and obesity-related liver disease. Notwithstanding the high mortality of this disease, liver diseases do not affect all sub-populations equally. The early detection of pathology is a determinant of patient outcomes, yet female patients appear to be marginalized when it comes to early diagnosis of liver pathology. \\nThe dataset comprises 584 patient records collected from the NorthEast of Andhra Pradesh, India.\\nThe prediction task is to determine whether a patient suffers from liver disease based on the information about several biochemical markers, including albumin and other enzymes required for metabolism.\\n', 'area': 'Health and Medicine', 'tasks': ['Classification'], 'characteristics': ['Multivariate'], 'num_instances': 583, 'num_features': 10, 'feature_types': ['Integer', 'Real'], 'demographics': ['Age', 'Gender'], 'target_col': ['Selector'], 'index_col': None, 'has_missing_values': 'no', 'missing_values_symbol': None, 'year_of_dataset_creation': 2022, 'last_updated': 'Fri Nov 03 2023', 'dataset_doi': '10.24432/C5D02C', 'creators': ['Bendi Ramana', 'N. Venkateswarlu'], 'intro_paper': {'title': 'Investigating for bias in healthcare algorithms: a sex-stratified analysis of supervised machine learning models in liver disease prediction', 'authors': 'I. Straw, Honghan Wu', 'published_in': 'BMJ Health & Care Informatics', 'year': 2022, 'url': 'https://www.semanticscholar.org/paper/df37b91a72fb4fb11dc9ac3d63c1479428e4f14d', 'doi': '10.1136%2Fbmjhci-2021-100457'}, 'additional_info': {'summary': \"This data set contains records of 416 patients diagnosed with liver disease and 167 patients without liver disease. This information is contained in the class label named 'Selector'.  There are 10 variables per patient: age, gender, total Bilirubin, direct Bilirubin, total proteins, albumin, A/G ratio, SGPT, SGOT and Alkphos. Of the 583 patient records, 441 are male, and 142 are female. \\n\\nThe current dataset has been used to study \\n- differences in patients across US and Indian patients that suffer from liver diseases.\\n- gender-based disparities in predicting liver disease, as previous studies have found that biochemical markers do not have the same effectiveness for male and female patients.\\n\", 'purpose': None, 'funded_by': None, 'instances_represent': 'Medical patients', 'recommended_data_splits': None, 'sensitive_data': 'Yes. The data contains information about the age and gender of the patients.', 'preprocessing_description': 'Any patient whose age exceeded 89 is listed as being of age \"90\".', 'variable_info': None, 'citation': 'The original dataset was first proposed by Ramana et al. (2012) as a critical comparison of patients across USA and India:\\nRamana, Bendi & Surendra, M & Babu, Prasad & Bala Venkateswarlu, Nagasuri. (2012). A Critical Comparative Study of Liver Patients from USA and INDIA: An Exploratory Analysis. International Journal of Computer Science. 9. '}}\n",
      "         name     role        type demographic  \\\n",
      "0         Age  Feature     Integer         Age   \n",
      "1      Gender  Feature      Binary      Gender   \n",
      "2          TB  Feature  Continuous        None   \n",
      "3          DB  Feature  Continuous        None   \n",
      "4     Alkphos  Feature     Integer        None   \n",
      "5        Sgpt  Feature     Integer        None   \n",
      "6        Sgot  Feature     Integer        None   \n",
      "7          TP  Feature  Continuous        None   \n",
      "8         ALB  Feature  Continuous        None   \n",
      "9   A/G Ratio  Feature  Continuous        None   \n",
      "10   Selector   Target      Binary        None   \n",
      "\n",
      "                                          description  units missing_values  \n",
      "0   Age of the patient. Any patient whose age exce...  years             no  \n",
      "1                               Gender of the patient   None             no  \n",
      "2                                     Total Bilirubin   None             no  \n",
      "3                                    Direct Bilirubin   None             no  \n",
      "4                                Alkaline Phosphotase   None             no  \n",
      "5                            Alamine Aminotransferase   None             no  \n",
      "6                          Aspartate Aminotransferase   None             no  \n",
      "7                                      Total Proteins   None             no  \n",
      "8                                             Albumin   None             no  \n",
      "9                          Albumin and Globulin Ratio   None             no  \n",
      "10  Selector field used to split the data into two...   None             no  \n"
     ]
    }
   ],
   "source": [
    "from ucimlrepo import fetch_ucirepo \n",
    "  \n",
    "# fetch dataset \n",
    "ilpd_indian_liver_patient_dataset = fetch_ucirepo(id=225) \n",
    "  \n",
    "# data (as pandas dataframes) \n",
    "X = ilpd_indian_liver_patient_dataset.data.features \n",
    "y = ilpd_indian_liver_patient_dataset.data.targets \n",
    "  \n",
    "# metadata \n",
    "print(ilpd_indian_liver_patient_dataset.metadata) \n",
    "  \n",
    "# variable information \n",
    "print(ilpd_indian_liver_patient_dataset.variables) \n"
   ]
  },
  {
   "cell_type": "code",
   "execution_count": 2,
   "metadata": {},
   "outputs": [],
   "source": [
    "import pandas as pd\n",
    "\n",
    "# Convert features and target to pandas DataFrames\n",
    "X_df = pd.DataFrame(ilpd_indian_liver_patient_dataset.data.features, columns=ilpd_indian_liver_patient_dataset.metadata.features)\n",
    "y_df = pd.DataFrame(ilpd_indian_liver_patient_dataset.data.targets, columns=['Selector'])\n",
    "\n",
    "# Concatenate features and target\n",
    "df = pd.concat([X_df, y_df], axis=1)\n",
    "\n",
    "# Save as CSV\n",
    "df.to_csv('liver_dataset.csv', index=False)"
   ]
  },
  {
   "cell_type": "code",
   "execution_count": null,
   "metadata": {},
   "outputs": [],
   "source": []
  }
 ],
 "metadata": {
  "kernelspec": {
   "display_name": "Python 3",
   "language": "python",
   "name": "python3"
  },
  "language_info": {
   "codemirror_mode": {
    "name": "ipython",
    "version": 3
   },
   "file_extension": ".py",
   "mimetype": "text/x-python",
   "name": "python",
   "nbconvert_exporter": "python",
   "pygments_lexer": "ipython3",
   "version": "3.11.5"
  }
 },
 "nbformat": 4,
 "nbformat_minor": 2
}
