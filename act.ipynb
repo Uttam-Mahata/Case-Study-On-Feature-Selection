{
 "cells": [
  {
   "cell_type": "code",
   "execution_count": null,
   "metadata": {},
   "outputs": [],
   "source": [
    "from ucimlrepo import fetch_ucirepo \n",
    "  \n",
    "# fetch dataset \n",
    "aids_clinical_trials_group_study_175 = fetch_ucirepo(id=890) \n",
    "  \n",
    "# data (as pandas dataframes) \n",
    "X = aids_clinical_trials_group_study_175.data.features \n",
    "y = aids_clinical_trials_group_study_175.data.targets \n",
    "  \n",
    "# metadata \n",
    "print(aids_clinical_trials_group_study_175.metadata) \n",
    "  \n",
    "# variable information \n",
    "print(aids_clinical_trials_group_study_175.variables) \n"
   ]
  },
  {
   "cell_type": "code",
   "execution_count": null,
   "metadata": {},
   "outputs": [],
   "source": [
    "import pandas as pd\n",
    "\n",
    "# Convert features and target to pandas DataFrames\n",
    "X_df = pd.DataFrame(aids_clinical_trials_group_study_175.data.features, columns=aids_clinical_trials_group_study_175.metadata.features)\n",
    "y_df = pd.DataFrame(aids_clinical_trials_group_study_175.data.targets, columns=['cid'])\n",
    "\n",
    "# Concatenate features and target\n",
    "df = pd.concat([X_df, y_df], axis=1)\n",
    "\n",
    "# Save as CSV\n",
    "df.to_csv('act_dataset.csv', index=False)"
   ]
  },
  {
   "cell_type": "code",
   "execution_count": 4,
   "metadata": {},
   "outputs": [],
   "source": [
    "#load the dataset\n",
    "import pandas as pd\n",
    "data = pd.read_csv('act_dataset.csv')\n"
   ]
  },
  {
   "cell_type": "code",
   "execution_count": 5,
   "metadata": {},
   "outputs": [],
   "source": []
  }
 ],
 "metadata": {
  "kernelspec": {
   "display_name": "base",
   "language": "python",
   "name": "python3"
  },
  "language_info": {
   "codemirror_mode": {
    "name": "ipython",
    "version": 3
   },
   "file_extension": ".py",
   "mimetype": "text/x-python",
   "name": "python",
   "nbconvert_exporter": "python",
   "pygments_lexer": "ipython3",
   "version": "3.11.5"
  }
 },
 "nbformat": 4,
 "nbformat_minor": 2
}
