{
 "cells": [
  {
   "cell_type": "code",
   "execution_count": 1,
   "metadata": {},
   "outputs": [
    {
     "name": "stdout",
     "output_type": "stream",
     "text": [
      "{'uci_id': 890, 'name': 'AIDS Clinical Trials Group Study 175', 'repository_url': 'https://archive.ics.uci.edu/dataset/890/aids+clinical+trials+group+study+175', 'data_url': 'https://archive.ics.uci.edu/static/public/890/data.csv', 'abstract': 'The AIDS Clinical Trials Group Study 175 Dataset contains healthcare statistics and categorical information about patients who have been diagnosed with AIDS. This dataset was initially published in 1996. The prediction task is to predict whether or not each patient died within a certain window of time or not. ', 'area': 'Health and Medicine', 'tasks': ['Classification', 'Regression'], 'characteristics': ['Tabular', 'Multivariate'], 'num_instances': 2139, 'num_features': 23, 'feature_types': ['Categorical', 'Integer'], 'demographics': ['Age', 'Sexual Orientation', 'Race', 'Gender'], 'target_col': ['cid'], 'index_col': ['pidnum'], 'has_missing_values': 'no', 'missing_values_symbol': None, 'year_of_dataset_creation': 1996, 'last_updated': 'Fri Nov 03 2023', 'dataset_doi': '10.24432/C5ZG8F', 'creators': ['S. Hammer', 'D. Katzenstein', 'M. Hughes', 'H. Gundacker', 'R. Schooley', 'R. Haubrich', 'W. K.', 'M. Lederman', 'J. Phair', 'M. Niu', 'M. Hirsch', 'T. Merigan'], 'intro_paper': {'title': 'A trial comparing nucleoside monotherapy with combination therapy in HIV-infected adults with CD4 cell counts from 200 to 500 per cubic millimeter. AIDS Clinical Trials Group Study 175 Study Team.', 'authors': 'S. Hammer, D. Katzenstein, M. Hughes, H. Gundacker, R. Schooley, R. Haubrich, W. K. Henry, M. Lederman, J. Phair, M. Niu, M. Hirsch, T. Merigan', 'published_in': 'New England Journal of Medicine', 'year': 1996, 'url': 'https://www.semanticscholar.org/paper/c7c401dd7d49ead07e70b299e422b27314589d2f', 'doi': None}, 'additional_info': {'summary': None, 'purpose': 'To examine the performance of two different types of AIDS treatments', 'funded_by': '- AIDS Clinical Trials Group of the National Institute of Allergy and Infectious Diseases\\n- General Research Center units funded by the National Center for Research Resources', 'instances_represent': '- Health records\\n- AIDS patients\\n- US only', 'recommended_data_splits': 'Cross validation or a single train-test split could be used.', 'sensitive_data': '- Ethnicity (race)\\n- Gender', 'preprocessing_description': 'No', 'variable_info': '- Personal information (age, weight, race, gender, sexual activity)\\n- Medical history (hemophilia, history of IV drugs)\\n- Treatment history (ZDV/non-ZDV treatment history)\\n- Lab results (CD4/CD8 counts)', 'citation': None}, 'external_url': 'https://classic.clinicaltrials.gov/ct2/show/NCT00000625'}\n",
      "       name     role        type         demographic  \\\n",
      "0    pidnum       ID     Integer                None   \n",
      "1       cid   Target      Binary                None   \n",
      "2      time  Feature     Integer                None   \n",
      "3       trt  Feature     Integer                None   \n",
      "4       age  Feature     Integer                 Age   \n",
      "5      wtkg  Feature  Continuous                None   \n",
      "6      hemo  Feature      Binary                None   \n",
      "7      homo  Feature      Binary  Sexual Orientation   \n",
      "8     drugs  Feature      Binary                None   \n",
      "9    karnof  Feature     Integer                None   \n",
      "10   oprior  Feature      Binary                None   \n",
      "11      z30  Feature      Binary                None   \n",
      "12   zprior  Feature      Binary                None   \n",
      "13  preanti  Feature     Integer                None   \n",
      "14     race  Feature     Integer                Race   \n",
      "15   gender  Feature      Binary              Gender   \n",
      "16     str2  Feature      Binary                None   \n",
      "17    strat  Feature     Integer                None   \n",
      "18  symptom  Feature      Binary                None   \n",
      "19    treat  Feature      Binary                None   \n",
      "20   offtrt  Feature      Binary                None   \n",
      "21     cd40  Feature     Integer                None   \n",
      "22    cd420  Feature     Integer                None   \n",
      "23     cd80  Feature     Integer                None   \n",
      "24    cd820  Feature     Integer                None   \n",
      "\n",
      "                                          description units missing_values  \n",
      "0                                          Patient ID  None             no  \n",
      "1    censoring indicator (1 = failure, 0 = censoring)  None             no  \n",
      "2                        time to failure or censoring  None             no  \n",
      "3   treatment indicator (0 = ZDV only; 1 = ZDV + d...  None             no  \n",
      "4                               age (yrs) at baseline  None             no  \n",
      "5                             weight (kg) at baseline  None             no  \n",
      "6                            hemophilia (0=no, 1=yes)  None             no  \n",
      "7                   homosexual activity (0=no, 1=yes)  None             no  \n",
      "8                history of IV drug use (0=no, 1=yes)  None             no  \n",
      "9               Karnofsky score (on a scale of 0-100)  None             no  \n",
      "10  Non-ZDV antiretroviral therapy pre-175 (0=no, ...  None             no  \n",
      "11      ZDV in the 30 days prior to 175 (0=no, 1=yes)  None             no  \n",
      "12                     ZDV prior to 175 (0=no, 1=yes)  None             no  \n",
      "13             # days pre-175 anti-retroviral therapy  None             no  \n",
      "14                        race (0=White, 1=non-white)  None             no  \n",
      "15                                  gender (0=F, 1=M)  None             no  \n",
      "16    antiretroviral history (0=naive, 1=experienced)  None             no  \n",
      "17  antiretroviral history stratification (1='Anti...  None             no  \n",
      "18            symptomatic indicator (0=asymp, 1=symp)  None             no  \n",
      "19         treatment indicator (0=ZDV only, 1=others)  None             no  \n",
      "20  indicator of off-trt before 96+/-5 weeks (0=no...  None             no  \n",
      "21                                    CD4 at baseline  None             no  \n",
      "22                                CD4 at 20+/-5 weeks  None             no  \n",
      "23                                    CD8 at baseline  None             no  \n",
      "24                                CD8 at 20+/-5 weeks  None             no  \n"
     ]
    }
   ],
   "source": [
    "from ucimlrepo import fetch_ucirepo \n",
    "  \n",
    "# fetch dataset \n",
    "aids_clinical_trials_group_study_175 = fetch_ucirepo(id=890) \n",
    "  \n",
    "# data (as pandas dataframes) \n",
    "X = aids_clinical_trials_group_study_175.data.features \n",
    "y = aids_clinical_trials_group_study_175.data.targets \n",
    "  \n",
    "# metadata \n",
    "print(aids_clinical_trials_group_study_175.metadata) \n",
    "  \n",
    "# variable information \n",
    "print(aids_clinical_trials_group_study_175.variables) \n"
   ]
  },
  {
   "cell_type": "code",
   "execution_count": null,
   "metadata": {},
   "outputs": [],
   "source": [
    "import pandas as pd\n",
    "\n",
    "# Convert features and target to pandas DataFrames\n",
    "X_df = pd.DataFrame(aids_clinical_trials_group_study_175.data.features, columns=aids_clinical_trials_group_study_175.metadata.features)\n",
    "y_df = pd.DataFrame(aids_clinical_trials_group_study_175.data.targets, columns=['cid'])\n",
    "\n",
    "# Concatenate features and target\n",
    "df = pd.concat([X_df, y_df], axis=1)\n",
    "\n",
    "# Save as CSV\n",
    "df.to_csv('act_dataset.csv', index=False)"
   ]
  },
  {
   "cell_type": "code",
   "execution_count": 1,
   "metadata": {},
   "outputs": [
    {
     "name": "stdout",
     "output_type": "stream",
     "text": [
      "   time  trt  age     wtkg  hemo  homo  drugs  karnof  oprior  z30  ...  str2  \\\n",
      "0   948    2   48  89.8128     0     0      0     100       0    0  ...     0   \n",
      "1  1002    3   61  49.4424     0     0      0      90       0    1  ...     1   \n",
      "2   961    3   45  88.4520     0     1      1      90       0    1  ...     1   \n",
      "3  1166    3   47  85.2768     0     1      0     100       0    1  ...     1   \n",
      "4  1090    0   43  66.6792     0     1      0     100       0    1  ...     1   \n",
      "\n",
      "   strat  symptom  treat  offtrt  cd40  cd420  cd80  cd820  cid  \n",
      "0      1        0      1       0   422    477   566    324    0  \n",
      "1      3        0      1       0   162    218   392    564    1  \n",
      "2      3        0      1       1   326    274  2063   1893    0  \n",
      "3      3        0      1       0   287    394  1590    966    0  \n",
      "4      3        0      0       0   504    353   870    782    0  \n",
      "\n",
      "[5 rows x 24 columns]\n"
     ]
    }
   ],
   "source": [
    "#load the dataset\n",
    "import pandas as pd\n",
    "df = pd.read_csv('act_dataset.csv')\n",
    "print(df.head()) # print the first 5 rows of the dataset\n",
    "# print(df.shape) # print the shape of the dataset (rows, columns)\n",
    "# print(df.tail()) # print the last 5 rows of the dataset"
   ]
  },
  {
   "cell_type": "code",
   "execution_count": 2,
   "metadata": {},
   "outputs": [
    {
     "name": "stdout",
     "output_type": "stream",
     "text": [
      "       time       trt       age      wtkg  hemo  homo  drugs    karnof  \\\n",
      "0  0.767461  0.666667  0.620690  0.456128   0.0   0.0    0.0  1.000000   \n",
      "1  0.811832  1.000000  0.844828  0.143032   0.0   0.0    0.0  0.666667   \n",
      "2  0.778143  1.000000  0.568966  0.445574   0.0   1.0    1.0  0.666667   \n",
      "3  0.946590  1.000000  0.603448  0.420948   0.0   1.0    0.0  1.000000   \n",
      "4  0.884141  0.000000  0.534483  0.276713   0.0   1.0    0.0  1.000000   \n",
      "\n",
      "   oprior  z30  ...  str2  strat  symptom  treat  offtrt      cd40     cd420  \\\n",
      "0     0.0  0.0  ...   0.0    0.0      0.0    1.0     0.0  0.351960  0.400000   \n",
      "1     0.0  1.0  ...   1.0    1.0      0.0    1.0     0.0  0.135113  0.157944   \n",
      "2     0.0  1.0  ...   1.0    1.0      0.0    1.0     1.0  0.271893  0.210280   \n",
      "3     0.0  1.0  ...   1.0    1.0      0.0    1.0     0.0  0.239366  0.322430   \n",
      "4     0.0  1.0  ...   1.0    1.0      0.0    0.0     0.0  0.420350  0.284112   \n",
      "\n",
      "       cd80     cd820  cid  \n",
      "0  0.105814  0.033835  0.0  \n",
      "1  0.070811  0.074437  1.0  \n",
      "2  0.406960  0.299273  0.0  \n",
      "3  0.311808  0.142446  0.0  \n",
      "4  0.166968  0.111318  0.0  \n",
      "\n",
      "[5 rows x 24 columns]\n"
     ]
    }
   ],
   "source": [
    "# Normalize the dataset columns in which the values are not in the same range\n",
    "from sklearn.preprocessing import MinMaxScaler\n",
    "scaler = MinMaxScaler()\n",
    "data = pd.DataFrame(scaler.fit_transform(df), columns=df.columns)\n",
    "print(data.head()) # print the first 5 rows of the dataset\n"
   ]
  },
  {
   "cell_type": "code",
   "execution_count": 8,
   "metadata": {},
   "outputs": [
    {
     "name": "stdout",
     "output_type": "stream",
     "text": [
      "0\n"
     ]
    }
   ],
   "source": [
    "# Check for duplicate rows\n",
    "print(df.duplicated().sum())\n"
   ]
  },
  {
   "cell_type": "code",
   "execution_count": 10,
   "metadata": {},
   "outputs": [
    {
     "name": "stdout",
     "output_type": "stream",
     "text": [
      "time       float64\n",
      "trt        float64\n",
      "age        float64\n",
      "wtkg       float64\n",
      "hemo       float64\n",
      "homo       float64\n",
      "drugs      float64\n",
      "karnof     float64\n",
      "oprior     float64\n",
      "z30        float64\n",
      "zprior     float64\n",
      "preanti    float64\n",
      "race       float64\n",
      "gender     float64\n",
      "str2       float64\n",
      "strat      float64\n",
      "symptom    float64\n",
      "treat      float64\n",
      "offtrt     float64\n",
      "cd40       float64\n",
      "cd420      float64\n",
      "cd80       float64\n",
      "cd820      float64\n",
      "cid          int64\n",
      "dtype: object\n",
      "       time       trt       age      wtkg      hemo      homo     drugs  \\\n",
      "0  0.235799  0.424960  1.464542  1.107649 -0.303123 -1.396547 -0.388893   \n",
      "1  0.420600  1.311779  2.957595 -1.936862 -0.303123 -1.396547 -0.388893   \n",
      "2  0.280288  1.311779  1.119991  1.005025 -0.303123  0.716052  2.571400   \n",
      "3  0.981848  1.311779  1.349692  0.765569 -0.303123  0.716052 -0.388893   \n",
      "4  0.721757 -1.348678  0.890291 -0.636959 -0.303123  0.716052 -0.388893   \n",
      "\n",
      "     karnof    oprior       z30  ...      str2     strat   symptom     treat  \\\n",
      "0  0.771836 -0.149888 -1.106116  ... -1.189210 -1.090177 -0.457338  0.575371   \n",
      "1 -0.923192 -0.149888  0.904064  ...  0.840894  1.134907 -0.457338  0.575371   \n",
      "2 -0.923192 -0.149888  0.904064  ...  0.840894  1.134907 -0.457338  0.575371   \n",
      "3  0.771836 -0.149888  0.904064  ...  0.840894  1.134907 -0.457338  0.575371   \n",
      "4  0.771836 -0.149888  0.904064  ...  0.840894  1.134907 -0.457338 -1.738009   \n",
      "\n",
      "     offtrt      cd40     cd420      cd80     cd820  cid  \n",
      "0 -0.754541  0.603131  0.730927 -0.876151 -1.374260    0  \n",
      "1 -0.754541 -1.590108 -1.060207 -1.238586 -0.834779    1  \n",
      "2  1.325309 -0.206680 -0.672935  2.242044  2.152597    0  \n",
      "3 -0.754541 -0.535666  0.156934  1.256802  0.068852    0  \n",
      "4 -0.754541  1.294845 -0.126605 -0.242930 -0.344750    0  \n",
      "\n",
      "[5 rows x 24 columns]\n"
     ]
    }
   ],
   "source": [
    "# Data Encoding\n",
    "\n",
    "# Import LabelEncoder\n",
    "from sklearn.preprocessing import LabelEncoder\n",
    "\n",
    "# Instantiate LabelEncoder\n",
    "le = LabelEncoder()\n"
   ]
  },
  {
   "cell_type": "code",
   "execution_count": 12,
   "metadata": {},
   "outputs": [
    {
     "name": "stdout",
     "output_type": "stream",
     "text": [
      "          time       trt       age      wtkg     hemo      homo     drugs  \\\n",
      "2134  0.725180  1.311779 -1.636415 -1.646094  3.29899 -1.396547 -0.388893   \n",
      "2135 -1.656702 -1.348678 -2.095816  2.099680  3.29899 -1.396547 -0.388893   \n",
      "2136  0.769669  0.424960  2.038793 -0.397503  3.29899  0.716052 -0.388893   \n",
      "2137 -1.417145 -1.348678 -2.440366 -1.140667  3.29899 -1.396547 -0.388893   \n",
      "2138  0.567756  1.311779  1.119991  0.164003  3.29899 -1.396547 -0.388893   \n",
      "\n",
      "        karnof    oprior       z30  ...      str2     strat   symptom  \\\n",
      "2134  0.771836 -0.149888  0.904064  ...  0.840894  1.134907 -0.457338   \n",
      "2135  0.771836 -0.149888  0.904064  ...  0.840894  1.134907 -0.457338   \n",
      "2136 -0.923192 -0.149888  0.904064  ...  0.840894  1.134907 -0.457338   \n",
      "2137  0.771836 -0.149888 -1.106116  ... -1.189210 -1.090177 -0.457338   \n",
      "2138  0.771836 -0.149888 -1.106116  ... -1.189210 -1.090177 -0.457338   \n",
      "\n",
      "         treat    offtrt      cd40     cd420      cd80     cd820  cid  \n",
      "2134  0.575371  1.325309 -1.674463 -1.814005 -0.886566 -0.484116    0  \n",
      "2135 -1.738009  1.325309  0.189790 -1.060207  1.608823  0.212713    0  \n",
      "2136  0.575371 -0.754541  0.577824 -0.050533  0.842293  0.237440    0  \n",
      "2137 -1.738009 -0.754541 -1.556366 -1.399071  0.025772  2.028966    1  \n",
      "2138  0.575371 -0.754541  4.728107  3.863683 -0.211686 -0.920197    0  \n",
      "\n",
      "[5 rows x 24 columns]\n"
     ]
    }
   ],
   "source": [
    "print(df.tail())\n",
    "\n"
   ]
  },
  {
   "cell_type": "code",
   "execution_count": null,
   "metadata": {},
   "outputs": [],
   "source": []
  }
 ],
 "metadata": {
  "kernelspec": {
   "display_name": "base",
   "language": "python",
   "name": "python3"
  },
  "language_info": {
   "codemirror_mode": {
    "name": "ipython",
    "version": 3
   },
   "file_extension": ".py",
   "mimetype": "text/x-python",
   "name": "python",
   "nbconvert_exporter": "python",
   "pygments_lexer": "ipython3",
   "version": "3.12.1"
  }
 },
 "nbformat": 4,
 "nbformat_minor": 2
}
