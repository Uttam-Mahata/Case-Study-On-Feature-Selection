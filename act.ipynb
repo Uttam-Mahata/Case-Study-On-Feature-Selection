{
 "cells": [
  {
   "cell_type": "code",
   "execution_count": null,
   "metadata": {},
   "outputs": [],
   "source": [
    "from ucimlrepo import fetch_ucirepo \n",
    "  \n",
    "# fetch dataset \n",
    "aids_clinical_trials_group_study_175 = fetch_ucirepo(id=890) \n",
    "  \n",
    "# data (as pandas dataframes) \n",
    "X = aids_clinical_trials_group_study_175.data.features \n",
    "y = aids_clinical_trials_group_study_175.data.targets \n",
    "  \n",
    "# metadata \n",
    "print(aids_clinical_trials_group_study_175.metadata) \n",
    "  \n",
    "# variable information \n",
    "print(aids_clinical_trials_group_study_175.variables) \n"
   ]
  },
  {
   "cell_type": "code",
   "execution_count": null,
   "metadata": {},
   "outputs": [],
   "source": [
    "import pandas as pd\n",
    "\n",
    "# Convert features and target to pandas DataFrames\n",
    "X_df = pd.DataFrame(aids_clinical_trials_group_study_175.data.features, columns=aids_clinical_trials_group_study_175.metadata.features)\n",
    "y_df = pd.DataFrame(aids_clinical_trials_group_study_175.data.targets, columns=['cid'])\n",
    "\n",
    "# Concatenate features and target\n",
    "df = pd.concat([X_df, y_df], axis=1)\n",
    "\n",
    "# Save as CSV\n",
    "df.to_csv('act_dataset.csv', index=False)"
   ]
  },
  {
   "cell_type": "code",
   "execution_count": 1,
   "metadata": {},
   "outputs": [
    {
     "name": "stdout",
     "output_type": "stream",
     "text": [
      "   time  trt  age     wtkg  hemo  homo  drugs  karnof  oprior  z30  ...  str2  \\\n",
      "0   948    2   48  89.8128     0     0      0     100       0    0  ...     0   \n",
      "1  1002    3   61  49.4424     0     0      0      90       0    1  ...     1   \n",
      "2   961    3   45  88.4520     0     1      1      90       0    1  ...     1   \n",
      "3  1166    3   47  85.2768     0     1      0     100       0    1  ...     1   \n",
      "4  1090    0   43  66.6792     0     1      0     100       0    1  ...     1   \n",
      "\n",
      "   strat  symptom  treat  offtrt  cd40  cd420  cd80  cd820  cid  \n",
      "0      1        0      1       0   422    477   566    324    0  \n",
      "1      3        0      1       0   162    218   392    564    1  \n",
      "2      3        0      1       1   326    274  2063   1893    0  \n",
      "3      3        0      1       0   287    394  1590    966    0  \n",
      "4      3        0      0       0   504    353   870    782    0  \n",
      "\n",
      "[5 rows x 24 columns]\n"
     ]
    }
   ],
   "source": [
    "#load the dataset\n",
    "import pandas as pd\n",
    "df = pd.read_csv('act_dataset.csv')\n",
    "print(df.head()) # print the first 5 rows of the dataset\n",
    "# print(df.shape) # print the shape of the dataset (rows, columns)\n",
    "# print(df.tail()) # print the last 5 rows of the dataset"
   ]
  },
  {
   "cell_type": "code",
   "execution_count": 5,
   "metadata": {},
   "outputs": [
    {
     "name": "stdout",
     "output_type": "stream",
     "text": [
      "   time  trt       age      wtkg  hemo  homo  drugs    karnof  oprior  z30  \\\n",
      "0   948    2  1.464200  1.107390     0     0      0  0.771656       0    0   \n",
      "1  1002    3  2.956904 -1.936409     0     0      0 -0.922977       0    1   \n",
      "2   961    3  1.119729  1.004790     0     1      1 -0.922977       0    1   \n",
      "3  1166    3  1.349376  0.765390     0     1      0  0.771656       0    1   \n",
      "4  1090    0  0.890083 -0.636810     0     1      0  0.771656       0    1   \n",
      "\n",
      "   ...  str2  strat  symptom  treat  offtrt      cd40     cd420  cd80  \\\n",
      "0  ...     0      1        0      1       0  0.602990  0.730756   566   \n",
      "1  ...     1      3        0      1       0 -1.589736 -1.059960   392   \n",
      "2  ...     1      3        0      1       1 -0.206632 -0.672778  2063   \n",
      "3  ...     1      3        0      1       0 -0.535541  0.156897  1590   \n",
      "4  ...     1      3        0      0       0  1.294542 -0.126575   870   \n",
      "\n",
      "      cd820  cid  \n",
      "0 -1.373939    0  \n",
      "1 -0.834584    1  \n",
      "2  2.152094    0  \n",
      "3  0.068836    0  \n",
      "4 -0.344670    0  \n",
      "\n",
      "[5 rows x 24 columns]\n"
     ]
    }
   ],
   "source": [
    "#Select the continuous feature for normalization\n",
    "continuous_features = ['age', 'wtkg', 'karnof', 'preanti', 'cd40', 'cd420', 'cd820']\n",
    "#Normalize the continuous features\n",
    "for feature in continuous_features:\n",
    "    df[feature] = (df[feature] - df[feature].mean()) / df[feature].std()\n",
    "\n",
    "print(df.head()) # print the first 5 rows of the dataset"
   ]
  },
  {
   "cell_type": "code",
   "execution_count": 8,
   "metadata": {},
   "outputs": [
    {
     "name": "stdout",
     "output_type": "stream",
     "text": [
      "0\n"
     ]
    }
   ],
   "source": [
    "# Check for duplicate rows\n",
    "print(df.duplicated().sum())\n"
   ]
  },
  {
   "cell_type": "code",
   "execution_count": 10,
   "metadata": {},
   "outputs": [
    {
     "name": "stdout",
     "output_type": "stream",
     "text": [
      "time       float64\n",
      "trt        float64\n",
      "age        float64\n",
      "wtkg       float64\n",
      "hemo       float64\n",
      "homo       float64\n",
      "drugs      float64\n",
      "karnof     float64\n",
      "oprior     float64\n",
      "z30        float64\n",
      "zprior     float64\n",
      "preanti    float64\n",
      "race       float64\n",
      "gender     float64\n",
      "str2       float64\n",
      "strat      float64\n",
      "symptom    float64\n",
      "treat      float64\n",
      "offtrt     float64\n",
      "cd40       float64\n",
      "cd420      float64\n",
      "cd80       float64\n",
      "cd820      float64\n",
      "cid          int64\n",
      "dtype: object\n",
      "       time       trt       age      wtkg      hemo      homo     drugs  \\\n",
      "0  0.235799  0.424960  1.464542  1.107649 -0.303123 -1.396547 -0.388893   \n",
      "1  0.420600  1.311779  2.957595 -1.936862 -0.303123 -1.396547 -0.388893   \n",
      "2  0.280288  1.311779  1.119991  1.005025 -0.303123  0.716052  2.571400   \n",
      "3  0.981848  1.311779  1.349692  0.765569 -0.303123  0.716052 -0.388893   \n",
      "4  0.721757 -1.348678  0.890291 -0.636959 -0.303123  0.716052 -0.388893   \n",
      "\n",
      "     karnof    oprior       z30  ...      str2     strat   symptom     treat  \\\n",
      "0  0.771836 -0.149888 -1.106116  ... -1.189210 -1.090177 -0.457338  0.575371   \n",
      "1 -0.923192 -0.149888  0.904064  ...  0.840894  1.134907 -0.457338  0.575371   \n",
      "2 -0.923192 -0.149888  0.904064  ...  0.840894  1.134907 -0.457338  0.575371   \n",
      "3  0.771836 -0.149888  0.904064  ...  0.840894  1.134907 -0.457338  0.575371   \n",
      "4  0.771836 -0.149888  0.904064  ...  0.840894  1.134907 -0.457338 -1.738009   \n",
      "\n",
      "     offtrt      cd40     cd420      cd80     cd820  cid  \n",
      "0 -0.754541  0.603131  0.730927 -0.876151 -1.374260    0  \n",
      "1 -0.754541 -1.590108 -1.060207 -1.238586 -0.834779    1  \n",
      "2  1.325309 -0.206680 -0.672935  2.242044  2.152597    0  \n",
      "3 -0.754541 -0.535666  0.156934  1.256802  0.068852    0  \n",
      "4 -0.754541  1.294845 -0.126605 -0.242930 -0.344750    0  \n",
      "\n",
      "[5 rows x 24 columns]\n"
     ]
    }
   ],
   "source": [
    "# Data Encoding\n",
    "\n",
    "# Import LabelEncoder\n",
    "from sklearn.preprocessing import LabelEncoder\n",
    "\n",
    "# Instantiate LabelEncoder\n",
    "le = LabelEncoder()\n"
   ]
  },
  {
   "cell_type": "code",
   "execution_count": 12,
   "metadata": {},
   "outputs": [
    {
     "name": "stdout",
     "output_type": "stream",
     "text": [
      "          time       trt       age      wtkg     hemo      homo     drugs  \\\n",
      "2134  0.725180  1.311779 -1.636415 -1.646094  3.29899 -1.396547 -0.388893   \n",
      "2135 -1.656702 -1.348678 -2.095816  2.099680  3.29899 -1.396547 -0.388893   \n",
      "2136  0.769669  0.424960  2.038793 -0.397503  3.29899  0.716052 -0.388893   \n",
      "2137 -1.417145 -1.348678 -2.440366 -1.140667  3.29899 -1.396547 -0.388893   \n",
      "2138  0.567756  1.311779  1.119991  0.164003  3.29899 -1.396547 -0.388893   \n",
      "\n",
      "        karnof    oprior       z30  ...      str2     strat   symptom  \\\n",
      "2134  0.771836 -0.149888  0.904064  ...  0.840894  1.134907 -0.457338   \n",
      "2135  0.771836 -0.149888  0.904064  ...  0.840894  1.134907 -0.457338   \n",
      "2136 -0.923192 -0.149888  0.904064  ...  0.840894  1.134907 -0.457338   \n",
      "2137  0.771836 -0.149888 -1.106116  ... -1.189210 -1.090177 -0.457338   \n",
      "2138  0.771836 -0.149888 -1.106116  ... -1.189210 -1.090177 -0.457338   \n",
      "\n",
      "         treat    offtrt      cd40     cd420      cd80     cd820  cid  \n",
      "2134  0.575371  1.325309 -1.674463 -1.814005 -0.886566 -0.484116    0  \n",
      "2135 -1.738009  1.325309  0.189790 -1.060207  1.608823  0.212713    0  \n",
      "2136  0.575371 -0.754541  0.577824 -0.050533  0.842293  0.237440    0  \n",
      "2137 -1.738009 -0.754541 -1.556366 -1.399071  0.025772  2.028966    1  \n",
      "2138  0.575371 -0.754541  4.728107  3.863683 -0.211686 -0.920197    0  \n",
      "\n",
      "[5 rows x 24 columns]\n"
     ]
    }
   ],
   "source": [
    "print(df.tail())\n",
    "\n"
   ]
  },
  {
   "cell_type": "code",
   "execution_count": null,
   "metadata": {},
   "outputs": [],
   "source": []
  }
 ],
 "metadata": {
  "kernelspec": {
   "display_name": "base",
   "language": "python",
   "name": "python3"
  },
  "language_info": {
   "codemirror_mode": {
    "name": "ipython",
    "version": 3
   },
   "file_extension": ".py",
   "mimetype": "text/x-python",
   "name": "python",
   "nbconvert_exporter": "python",
   "pygments_lexer": "ipython3",
   "version": "3.11.5"
  }
 },
 "nbformat": 4,
 "nbformat_minor": 2
}
