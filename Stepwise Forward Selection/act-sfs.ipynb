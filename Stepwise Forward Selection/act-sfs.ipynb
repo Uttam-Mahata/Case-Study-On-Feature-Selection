{
 "cells": [
  {
   "cell_type": "code",
   "execution_count": 2,
   "metadata": {},
   "outputs": [],
   "source": [
    "import pandas as pd\n",
    "from sklearn.model_selection import train_test_split\n",
    "from sklearn.metrics import accuracy_score, precision_score, recall_score, f1_score\n",
    "from sklearn.feature_selection import SequentialFeatureSelector\n",
    "from sklearn.ensemble import RandomForestClassifier\n",
    "from sklearn.svm import SVC\n",
    "from sklearn.neighbors import KNeighborsClassifier"
   ]
  },
  {
   "cell_type": "code",
   "execution_count": 3,
   "metadata": {},
   "outputs": [],
   "source": [
    "data = pd.read_csv('act_dataset.csv')"
   ]
  },
  {
   "cell_type": "code",
   "execution_count": 3,
   "metadata": {},
   "outputs": [
    {
     "data": {
      "text/html": [
       "<div>\n",
       "<style scoped>\n",
       "    .dataframe tbody tr th:only-of-type {\n",
       "        vertical-align: middle;\n",
       "    }\n",
       "\n",
       "    .dataframe tbody tr th {\n",
       "        vertical-align: top;\n",
       "    }\n",
       "\n",
       "    .dataframe thead th {\n",
       "        text-align: right;\n",
       "    }\n",
       "</style>\n",
       "<table border=\"1\" class=\"dataframe\">\n",
       "  <thead>\n",
       "    <tr style=\"text-align: right;\">\n",
       "      <th></th>\n",
       "      <th>time</th>\n",
       "      <th>trt</th>\n",
       "      <th>age</th>\n",
       "      <th>wtkg</th>\n",
       "      <th>hemo</th>\n",
       "      <th>homo</th>\n",
       "      <th>drugs</th>\n",
       "      <th>karnof</th>\n",
       "      <th>oprior</th>\n",
       "      <th>z30</th>\n",
       "      <th>...</th>\n",
       "      <th>str2</th>\n",
       "      <th>strat</th>\n",
       "      <th>symptom</th>\n",
       "      <th>treat</th>\n",
       "      <th>offtrt</th>\n",
       "      <th>cd40</th>\n",
       "      <th>cd420</th>\n",
       "      <th>cd80</th>\n",
       "      <th>cd820</th>\n",
       "      <th>cid</th>\n",
       "    </tr>\n",
       "  </thead>\n",
       "  <tbody>\n",
       "    <tr>\n",
       "      <th>0</th>\n",
       "      <td>948</td>\n",
       "      <td>2</td>\n",
       "      <td>48</td>\n",
       "      <td>89.8128</td>\n",
       "      <td>0</td>\n",
       "      <td>0</td>\n",
       "      <td>0</td>\n",
       "      <td>100</td>\n",
       "      <td>0</td>\n",
       "      <td>0</td>\n",
       "      <td>...</td>\n",
       "      <td>0</td>\n",
       "      <td>1</td>\n",
       "      <td>0</td>\n",
       "      <td>1</td>\n",
       "      <td>0</td>\n",
       "      <td>422</td>\n",
       "      <td>477</td>\n",
       "      <td>566</td>\n",
       "      <td>324</td>\n",
       "      <td>0</td>\n",
       "    </tr>\n",
       "    <tr>\n",
       "      <th>1</th>\n",
       "      <td>1002</td>\n",
       "      <td>3</td>\n",
       "      <td>61</td>\n",
       "      <td>49.4424</td>\n",
       "      <td>0</td>\n",
       "      <td>0</td>\n",
       "      <td>0</td>\n",
       "      <td>90</td>\n",
       "      <td>0</td>\n",
       "      <td>1</td>\n",
       "      <td>...</td>\n",
       "      <td>1</td>\n",
       "      <td>3</td>\n",
       "      <td>0</td>\n",
       "      <td>1</td>\n",
       "      <td>0</td>\n",
       "      <td>162</td>\n",
       "      <td>218</td>\n",
       "      <td>392</td>\n",
       "      <td>564</td>\n",
       "      <td>1</td>\n",
       "    </tr>\n",
       "    <tr>\n",
       "      <th>2</th>\n",
       "      <td>961</td>\n",
       "      <td>3</td>\n",
       "      <td>45</td>\n",
       "      <td>88.4520</td>\n",
       "      <td>0</td>\n",
       "      <td>1</td>\n",
       "      <td>1</td>\n",
       "      <td>90</td>\n",
       "      <td>0</td>\n",
       "      <td>1</td>\n",
       "      <td>...</td>\n",
       "      <td>1</td>\n",
       "      <td>3</td>\n",
       "      <td>0</td>\n",
       "      <td>1</td>\n",
       "      <td>1</td>\n",
       "      <td>326</td>\n",
       "      <td>274</td>\n",
       "      <td>2063</td>\n",
       "      <td>1893</td>\n",
       "      <td>0</td>\n",
       "    </tr>\n",
       "    <tr>\n",
       "      <th>3</th>\n",
       "      <td>1166</td>\n",
       "      <td>3</td>\n",
       "      <td>47</td>\n",
       "      <td>85.2768</td>\n",
       "      <td>0</td>\n",
       "      <td>1</td>\n",
       "      <td>0</td>\n",
       "      <td>100</td>\n",
       "      <td>0</td>\n",
       "      <td>1</td>\n",
       "      <td>...</td>\n",
       "      <td>1</td>\n",
       "      <td>3</td>\n",
       "      <td>0</td>\n",
       "      <td>1</td>\n",
       "      <td>0</td>\n",
       "      <td>287</td>\n",
       "      <td>394</td>\n",
       "      <td>1590</td>\n",
       "      <td>966</td>\n",
       "      <td>0</td>\n",
       "    </tr>\n",
       "    <tr>\n",
       "      <th>4</th>\n",
       "      <td>1090</td>\n",
       "      <td>0</td>\n",
       "      <td>43</td>\n",
       "      <td>66.6792</td>\n",
       "      <td>0</td>\n",
       "      <td>1</td>\n",
       "      <td>0</td>\n",
       "      <td>100</td>\n",
       "      <td>0</td>\n",
       "      <td>1</td>\n",
       "      <td>...</td>\n",
       "      <td>1</td>\n",
       "      <td>3</td>\n",
       "      <td>0</td>\n",
       "      <td>0</td>\n",
       "      <td>0</td>\n",
       "      <td>504</td>\n",
       "      <td>353</td>\n",
       "      <td>870</td>\n",
       "      <td>782</td>\n",
       "      <td>0</td>\n",
       "    </tr>\n",
       "  </tbody>\n",
       "</table>\n",
       "<p>5 rows × 24 columns</p>\n",
       "</div>"
      ],
      "text/plain": [
       "   time  trt  age     wtkg  hemo  homo  drugs  karnof  oprior  z30  ...  str2  \\\n",
       "0   948    2   48  89.8128     0     0      0     100       0    0  ...     0   \n",
       "1  1002    3   61  49.4424     0     0      0      90       0    1  ...     1   \n",
       "2   961    3   45  88.4520     0     1      1      90       0    1  ...     1   \n",
       "3  1166    3   47  85.2768     0     1      0     100       0    1  ...     1   \n",
       "4  1090    0   43  66.6792     0     1      0     100       0    1  ...     1   \n",
       "\n",
       "   strat  symptom  treat  offtrt  cd40  cd420  cd80  cd820  cid  \n",
       "0      1        0      1       0   422    477   566    324    0  \n",
       "1      3        0      1       0   162    218   392    564    1  \n",
       "2      3        0      1       1   326    274  2063   1893    0  \n",
       "3      3        0      1       0   287    394  1590    966    0  \n",
       "4      3        0      0       0   504    353   870    782    0  \n",
       "\n",
       "[5 rows x 24 columns]"
      ]
     },
     "execution_count": 3,
     "metadata": {},
     "output_type": "execute_result"
    }
   ],
   "source": [
    "data.head()"
   ]
  },
  {
   "cell_type": "code",
   "execution_count": 4,
   "metadata": {},
   "outputs": [
    {
     "data": {
      "text/plain": [
       "time       0\n",
       "trt        0\n",
       "age        0\n",
       "wtkg       0\n",
       "hemo       0\n",
       "homo       0\n",
       "drugs      0\n",
       "karnof     0\n",
       "oprior     0\n",
       "z30        0\n",
       "zprior     0\n",
       "preanti    0\n",
       "race       0\n",
       "gender     0\n",
       "str2       0\n",
       "strat      0\n",
       "symptom    0\n",
       "treat      0\n",
       "offtrt     0\n",
       "cd40       0\n",
       "cd420      0\n",
       "cd80       0\n",
       "cd820      0\n",
       "cid        0\n",
       "dtype: int64"
      ]
     },
     "execution_count": 4,
     "metadata": {},
     "output_type": "execute_result"
    }
   ],
   "source": [
    "data.isnull().sum()"
   ]
  },
  {
   "cell_type": "code",
   "execution_count": 14,
   "metadata": {},
   "outputs": [],
   "source": [
    "# Step 2: Apply Stepwise Forward Selection algorithm\n",
    "X = data.drop(columns=['cid'])  # Adjust 'target_column' with your target variable\n",
    "y = data['cid']"
   ]
  },
  {
   "cell_type": "code",
   "execution_count": 15,
   "metadata": {},
   "outputs": [
    {
     "name": "stdout",
     "output_type": "stream",
     "text": [
      "Time taken for forward selection:  307.04339933395386 seconds\n",
      "Selected features using forward selection:  Index(['time', 'wtkg', 'hemo', 'oprior', 'zprior', 'str2', 'strat', 'treat',\n",
      "       'offtrt', 'cd40', 'cd420'],\n",
      "      dtype='object')\n"
     ]
    }
   ],
   "source": [
    "from time import time\n",
    "tic_fwd = time()\n",
    "rf = RandomForestClassifier().fit(X, y)\n",
    "sfs_forward = SequentialFeatureSelector(rf, n_features_to_select='auto', direction='forward').fit(X, y)\n",
    "toc_fwd = time()\n",
    "print('Time taken for forward selection: ', toc_fwd - tic_fwd, 'seconds')\n",
    "\n",
    "# Step 4: Print the features that were selected\n",
    "selected_features_forward = X.columns[sfs_forward.get_support()]\n",
    "print('Selected features using forward selection: ', selected_features_forward)\n",
    "\n"
   ]
  },
  {
   "cell_type": "code",
   "execution_count": 16,
   "metadata": {},
   "outputs": [],
   "source": [
    "#save reduced dataset to csv file\n",
    "reduced_data = data[selected_features_forward]\n",
    "reduced_data.to_csv('sfs-reduced_act_dataset.csv', index=False)"
   ]
  },
  {
   "cell_type": "code",
   "execution_count": 20,
   "metadata": {},
   "outputs": [],
   "source": [
    "X_train_reduced, X_test_reduced, y_train_reduced, y_test_reduced = train_test_split(reduced_data, y, test_size=0.2, random_state=42)\n",
    "X_train_orig, X_test_orig, y_train_orig, y_test_orig = train_test_split(X, y, test_size=0.2, random_state=42)\n"
   ]
  },
  {
   "cell_type": "code",
   "execution_count": 21,
   "metadata": {},
   "outputs": [],
   "source": [
    "# Step 5: Train various classifiers on both datasets\n",
    "classifiers = {\n",
    "    'RandomForest': RandomForestClassifier(),\n",
    "    'SVM': SVC(),\n",
    "    'KNN': KNeighborsClassifier()\n",
    "}"
   ]
  },
  {
   "cell_type": "code",
   "execution_count": 24,
   "metadata": {},
   "outputs": [
    {
     "name": "stderr",
     "output_type": "stream",
     "text": [
      "c:\\Users\\uttam\\anaconda3\\Lib\\site-packages\\sklearn\\base.py:464: UserWarning: X does not have valid feature names, but RandomForestClassifier was fitted with feature names\n",
      "  warnings.warn(\n"
     ]
    },
    {
     "name": "stdout",
     "output_type": "stream",
     "text": [
      "Classifier:  RandomForest\n",
      "Accuracy (original):  0.8785046728971962\n",
      "Precision (original):  0.8756950720264413\n",
      "Recall (original):  0.8785046728971962\n",
      "F1 (original):  0.8705735213931372\n",
      "Accuracy (reduced):  0.8714953271028038\n",
      "Precision (reduced):  0.8664600664133374\n",
      "Recall (reduced):  0.8714953271028038\n",
      "F1 (reduced):  0.8654223114019032\n",
      "---------------------------------\n",
      "Classifier:  SVM\n",
      "Accuracy (original):  0.8457943925233645\n",
      "Precision (original):  0.8375111417048353\n",
      "Recall (original):  0.8457943925233645\n",
      "F1 (original):  0.8373522539857065\n",
      "Accuracy (reduced):  0.8598130841121495\n",
      "Precision (reduced):  0.8552298626799207\n",
      "Recall (reduced):  0.8598130841121495\n",
      "F1 (reduced):  0.8566490740617647\n",
      "---------------------------------\n"
     ]
    },
    {
     "name": "stderr",
     "output_type": "stream",
     "text": [
      "c:\\Users\\uttam\\anaconda3\\Lib\\site-packages\\sklearn\\base.py:464: UserWarning: X does not have valid feature names, but SVC was fitted with feature names\n",
      "  warnings.warn(\n",
      "c:\\Users\\uttam\\anaconda3\\Lib\\site-packages\\sklearn\\base.py:464: UserWarning: X does not have valid feature names, but KNeighborsClassifier was fitted with feature names\n",
      "  warnings.warn(\n"
     ]
    },
    {
     "name": "stdout",
     "output_type": "stream",
     "text": [
      "Classifier:  KNN\n",
      "Accuracy (original):  0.8271028037383178\n",
      "Precision (original):  0.8158892929977768\n",
      "Recall (original):  0.8271028037383178\n",
      "F1 (original):  0.8167407443810092\n",
      "Accuracy (reduced):  0.8551401869158879\n",
      "Precision (reduced):  0.8524396999064977\n",
      "Recall (reduced):  0.8551401869158879\n",
      "F1 (reduced):  0.853581398574723\n",
      "---------------------------------\n"
     ]
    }
   ],
   "source": [
    "import numpy as np\n",
    "# Step 6: Evaluate the performance for both original and reduced datsets of classifiers\n",
    "\n",
    "for classifier_name, classifier in classifiers.items():\n",
    "    classifier.fit(X_train_orig, y_train_orig)\n",
    "    # Convert the array to a contiguous array\n",
    "    X_test_orig = np.ascontiguousarray(X_test_orig)\n",
    "    y_pred_orig = classifier.predict(X_test_orig)\n",
    "    accuracy_orig = accuracy_score(y_test_orig, y_pred_orig)\n",
    "    precision_orig = precision_score(y_test_orig, y_pred_orig, average='weighted')\n",
    "    recall_orig = recall_score(y_test_orig, y_pred_orig, average='weighted')\n",
    "    f1_orig = f1_score(y_test_orig, y_pred_orig, average='weighted')\n",
    "    print('Classifier: ', classifier_name)\n",
    "    print('Accuracy (original): ', accuracy_orig)\n",
    "    print('Precision (original): ', precision_orig)\n",
    "    print('Recall (original): ', recall_orig)\n",
    "    print('F1 (original): ', f1_orig)\n",
    "\n",
    "    classifier.fit(X_train_reduced, y_train_reduced)\n",
    "    y_pred_reduced = classifier.predict(X_test_reduced)\n",
    "    accuracy_reduced = accuracy_score(y_test_reduced, y_pred_reduced)\n",
    "    precision_reduced = precision_score(y_test_reduced, y_pred_reduced, average='weighted')\n",
    "    recall_reduced = recall_score(y_test_reduced, y_pred_reduced, average='weighted')\n",
    "    f1_reduced = f1_score(y_test_reduced, y_pred_reduced, average='weighted')\n",
    "    print('Accuracy (reduced): ', accuracy_reduced)\n",
    "    print('Precision (reduced): ', precision_reduced)\n",
    "    print('Recall (reduced): ', recall_reduced)\n",
    "    print('F1 (reduced): ', f1_reduced)\n",
    "    print('---------------------------------')"
   ]
  },
  {
   "cell_type": "code",
   "execution_count": null,
   "metadata": {},
   "outputs": [],
   "source": []
  }
 ],
 "metadata": {
  "kernelspec": {
   "display_name": "base",
   "language": "python",
   "name": "python3"
  },
  "language_info": {
   "codemirror_mode": {
    "name": "ipython",
    "version": 3
   },
   "file_extension": ".py",
   "mimetype": "text/x-python",
   "name": "python",
   "nbconvert_exporter": "python",
   "pygments_lexer": "ipython3",
   "version": "3.11.5"
  }
 },
 "nbformat": 4,
 "nbformat_minor": 2
}
