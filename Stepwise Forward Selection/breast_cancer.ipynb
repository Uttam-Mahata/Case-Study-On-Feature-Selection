{
 "cells": [
  {
   "cell_type": "code",
   "execution_count": 6,
   "metadata": {},
   "outputs": [],
   "source": [
    "import pandas as pd\n",
    "from sklearn.model_selection import train_test_split\n",
    "from sklearn.metrics import accuracy_score, precision_score, recall_score, f1_score\n",
    "from sklearn.feature_selection import SequentialFeatureSelector\n",
    "from sklearn.ensemble import RandomForestClassifier\n",
    "from sklearn.svm import SVC\n",
    "from sklearn.preprocessing import StandardScaler\n",
    "from sklearn.neighbors import KNeighborsClassifier"
   ]
  },
  {
   "cell_type": "code",
   "execution_count": 4,
   "metadata": {},
   "outputs": [
    {
     "name": "stdout",
     "output_type": "stream",
     "text": [
      "['mean radius' 'mean texture' 'mean perimeter' 'mean area'\n",
      " 'mean smoothness' 'mean compactness' 'mean concavity'\n",
      " 'mean concave points' 'mean symmetry' 'mean fractal dimension'\n",
      " 'radius error' 'texture error' 'perimeter error' 'area error'\n",
      " 'smoothness error' 'compactness error' 'concavity error'\n",
      " 'concave points error' 'symmetry error' 'fractal dimension error'\n",
      " 'worst radius' 'worst texture' 'worst perimeter' 'worst area'\n",
      " 'worst smoothness' 'worst compactness' 'worst concavity'\n",
      " 'worst concave points' 'worst symmetry' 'worst fractal dimension']\n",
      "['malignant' 'benign']\n"
     ]
    }
   ],
   "source": [
    "import numpy as np\n",
    "from sklearn.datasets import load_breast_cancer\n",
    "\n",
    "breast_cancer_data = load_breast_cancer()\n",
    "X, y = breast_cancer_data.data, breast_cancer_data.target\n",
    "\n",
    "print(breast_cancer_data.feature_names)\n",
    "print(breast_cancer_data.target_names)\n",
    "\n",
    "#Save the data into a pandas dataframe\n",
    "df = pd.DataFrame(X, columns=breast_cancer_data.feature_names)\n",
    "df['malignant'] = y\n",
    "\n",
    "#Save the data into a csv file\n",
    "df.to_csv('breast_cancer_data.csv', index=False)\n",
    "\n"
   ]
  },
  {
   "cell_type": "code",
   "execution_count": 5,
   "metadata": {},
   "outputs": [],
   "source": [
    "# Load the dataset\n",
    "df = pd.read_csv('breast_cancer_data.csv')"
   ]
  },
  {
   "cell_type": "code",
   "execution_count": 7,
   "metadata": {},
   "outputs": [
    {
     "name": "stdout",
     "output_type": "stream",
     "text": [
      "Time to select features: 11.82s\n",
      "Features selected: Index(['mean smoothness', 'mean compactness', 'mean concavity',\n",
      "       'mean symmetry', 'radius error', 'area error', 'smoothness error',\n",
      "       'symmetry error', 'fractal dimension error', 'worst radius',\n",
      "       'worst texture', 'worst perimeter', 'worst concave points',\n",
      "       'worst symmetry', 'worst fractal dimension'],\n",
      "      dtype='object')\n"
     ]
    }
   ],
   "source": [
    "from sklearn.linear_model import LogisticRegression\n",
    "from sklearn.pipeline import make_pipeline\n",
    "from time import time\n",
    "feature_names = df.columns[:-1]\n",
    "start = time()\n",
    "feature_selector = SequentialFeatureSelector(\n",
    "        LogisticRegression(),\n",
    "        n_features_to_select=\"auto\",\n",
    "        direction=\"backward\",\n",
    "        scoring=\"roc_auc\",\n",
    "        \n",
    "        n_jobs=2,\n",
    "    )\n",
    "\n",
    "model = make_pipeline(StandardScaler(), feature_selector, LogisticRegression())\n",
    "model.fit(X, y)\n",
    "end = time()\n",
    "print(f\"Time to select features: {end-start:.2f}s\")\n",
    "print(f\"Features selected: {feature_names[model[1].get_support()]}\")"
   ]
  },
  {
   "cell_type": "code",
   "execution_count": 9,
   "metadata": {},
   "outputs": [
    {
     "name": "stderr",
     "output_type": "stream",
     "text": [
      "C:\\Users\\uttam\\AppData\\Local\\Temp\\ipykernel_10968\\2849557494.py:3: SettingWithCopyWarning: \n",
      "A value is trying to be set on a copy of a slice from a DataFrame.\n",
      "Try using .loc[row_indexer,col_indexer] = value instead\n",
      "\n",
      "See the caveats in the documentation: https://pandas.pydata.org/pandas-docs/stable/user_guide/indexing.html#returning-a-view-versus-a-copy\n",
      "  df_reduced['malignant'] = df['malignant']\n"
     ]
    }
   ],
   "source": [
    "#save reduced dataset to a csv file\n",
    "df_reduced = df[feature_names[model[1].get_support()]]\n",
    "df_reduced['malignant'] = df['malignant']\n",
    "df_reduced.to_csv('sbr-breast_cancer_data_reduced.csv', index=False)\n"
   ]
  },
  {
   "cell_type": "code",
   "execution_count": 10,
   "metadata": {},
   "outputs": [],
   "source": [
    "#split both datasets into training and testing datasets\n",
    "df = pd.read_csv('breast_cancer_data.csv')\n",
    "X = df.drop('malignant', axis=1)\n",
    "y = df['malignant']\n",
    "X_train, X_test, y_train, y_test = train_test_split(X, y, test_size=0.2, random_state=0)\n",
    "\n",
    "df_reduced = pd.read_csv('sbr-breast_cancer_data_reduced.csv')\n",
    "X_reduced = df_reduced.drop('malignant', axis=1)\n",
    "y_reduced = df_reduced['malignant']\n",
    "X_train_reduced, X_test_reduced, y_train_reduced, y_test_reduced = train_test_split(X_reduced, y_reduced, test_size=0.2, random_state=0)\n"
   ]
  },
  {
   "cell_type": "code",
   "execution_count": 14,
   "metadata": {},
   "outputs": [
    {
     "name": "stdout",
     "output_type": "stream",
     "text": [
      "Random Forest Accuracy: 0.96\n",
      "Random Forest Precision: 0.98\n",
      "Random Forest Recall: 0.96\n",
      "Random Forest F1 Score: 0.97\n",
      "Random Forest Accuracy (Reduced): 0.96\n",
      "Random Forest Precision (Reduced): 0.97\n",
      "Random Forest Recall (Reduced): 0.96\n",
      "Random Forest F1 Score (Reduced): 0.96\n",
      "SVM Accuracy: 0.93\n",
      "SVM Precision: 0.90\n",
      "SVM Recall: 0.99\n",
      "SVM F1 Score: 0.94\n",
      "SVM Accuracy (Reduced): 0.96\n",
      "SVM Precision (Reduced): 0.96\n",
      "SVM Recall (Reduced): 0.97\n",
      "SVM F1 Score (Reduced): 0.96\n",
      "KNN Accuracy: 0.94\n",
      "KNN Precision: 0.95\n",
      "KNN Recall: 0.94\n",
      "KNN F1 Score: 0.95\n",
      "KNN Accuracy (Reduced): 0.96\n",
      "KNN Precision (Reduced): 0.97\n",
      "KNN Recall (Reduced): 0.96\n",
      "KNN F1 Score (Reduced): 0.96\n"
     ]
    }
   ],
   "source": [
    "# Step 4: Train various classifiers on both datasets\n",
    "# Random Forest\n",
    "X_train = np.ascontiguousarray(X_train)\n",
    "X_test = np.ascontiguousarray(X_test)\n",
    "rf = RandomForestClassifier(n_estimators=100, random_state=0)\n",
    "rf.fit(X_train, y_train)\n",
    "y_pred = rf.predict(X_test)\n",
    "print(f\"Random Forest Accuracy: {accuracy_score(y_test, y_pred):.2f}\")\n",
    "print(f\"Random Forest Precision: {precision_score(y_test, y_pred):.2f}\")\n",
    "print(f\"Random Forest Recall: {recall_score(y_test, y_pred):.2f}\")\n",
    "print(f\"Random Forest F1 Score: {f1_score(y_test, y_pred):.2f}\")\n",
    "\n",
    "X_train_reduced = np.ascontiguousarray(X_train_reduced)\n",
    "X_test_reduced = np.ascontiguousarray(X_test_reduced)\n",
    "rf_reduced = RandomForestClassifier(n_estimators=100, random_state=0)\n",
    "rf_reduced.fit(X_train_reduced, y_train_reduced)\n",
    "y_pred_reduced = rf_reduced.predict(X_test_reduced)\n",
    "print(f\"Random Forest Accuracy (Reduced): {accuracy_score(y_test_reduced, y_pred_reduced):.2f}\")\n",
    "print(f\"Random Forest Precision (Reduced): {precision_score(y_test_reduced, y_pred_reduced):.2f}\")\n",
    "print(f\"Random Forest Recall (Reduced): {recall_score(y_test_reduced, y_pred_reduced):.2f}\")\n",
    "print(f\"Random Forest F1 Score (Reduced): {f1_score(y_test_reduced, y_pred_reduced):.2f}\")\n",
    "\n",
    "# Support Vector Machine\n",
    "svc = SVC(random_state=0)\n",
    "svc.fit(X_train, y_train)\n",
    "y_pred = svc.predict(X_test)\n",
    "print(f\"SVM Accuracy: {accuracy_score(y_test, y_pred):.2f}\")\n",
    "print(f\"SVM Precision: {precision_score(y_test, y_pred):.2f}\")\n",
    "print(f\"SVM Recall: {recall_score(y_test, y_pred):.2f}\")\n",
    "print(f\"SVM F1 Score: {f1_score(y_test, y_pred):.2f}\")\n",
    "\n",
    "svc_reduced = SVC(random_state=0)\n",
    "svc_reduced.fit(X_train_reduced, y_train_reduced)\n",
    "y_pred_reduced = svc_reduced.predict(X_test_reduced)\n",
    "print(f\"SVM Accuracy (Reduced): {accuracy_score(y_test_reduced, y_pred_reduced):.2f}\")\n",
    "print(f\"SVM Precision (Reduced): {precision_score(y_test_reduced, y_pred_reduced):.2f}\")\n",
    "print(f\"SVM Recall (Reduced): {recall_score(y_test_reduced, y_pred_reduced):.2f}\")\n",
    "print(f\"SVM F1 Score (Reduced): {f1_score(y_test_reduced, y_pred_reduced):.2f}\")\n",
    "\n",
    "# K-Nearest Neighbors\n",
    "knn = KNeighborsClassifier()\n",
    "knn.fit(X_train, y_train)\n",
    "y_pred = knn.predict(X_test)\n",
    "\n",
    "print(f\"KNN Accuracy: {accuracy_score(y_test, y_pred):.2f}\")\n",
    "print(f\"KNN Precision: {precision_score(y_test, y_pred):.2f}\")\n",
    "print(f\"KNN Recall: {recall_score(y_test, y_pred):.2f}\")\n",
    "print(f\"KNN F1 Score: {f1_score(y_test, y_pred):.2f}\")\n",
    "\n",
    "knn_reduced = KNeighborsClassifier()\n",
    "knn_reduced.fit(X_train_reduced, y_train_reduced)\n",
    "y_pred_reduced = knn_reduced.predict(X_test_reduced)\n",
    "print(f\"KNN Accuracy (Reduced): {accuracy_score(y_test_reduced, y_pred_reduced):.2f}\")\n",
    "print(f\"KNN Precision (Reduced): {precision_score(y_test_reduced, y_pred_reduced):.2f}\")\n",
    "print(f\"KNN Recall (Reduced): {recall_score(y_test_reduced, y_pred_reduced):.2f}\")\n",
    "print(f\"KNN F1 Score (Reduced): {f1_score(y_test_reduced, y_pred_reduced):.2f}\")\n",
    "\n",
    "\n"
   ]
  },
  {
   "cell_type": "code",
   "execution_count": 15,
   "metadata": {},
   "outputs": [
    {
     "name": "stdout",
     "output_type": "stream",
     "text": [
      "                     Model  Accuracy  Precision    Recall  F1 Score\n",
      "0            Random Forest  0.938596   0.954545  0.940299  0.947368\n",
      "1  Random Forest (Reduced)  0.956140   0.969697  0.955224  0.962406\n",
      "2                      SVM  0.938596   0.954545  0.940299  0.947368\n",
      "3            SVM (Reduced)  0.956140   0.969697  0.955224  0.962406\n",
      "4                      KNN  0.938596   0.954545  0.940299  0.947368\n",
      "5            KNN (Reduced)  0.956140   0.969697  0.955224  0.962406\n"
     ]
    }
   ],
   "source": [
    "# Save performance metrics to a csv file for both datasets to compare\n",
    "\n",
    "performance_metrics = {\n",
    "    'Model': ['Random Forest', 'Random Forest (Reduced)', 'SVM', 'SVM (Reduced)', 'KNN', 'KNN (Reduced)'],\n",
    "    'Accuracy': [accuracy_score(y_test, y_pred), accuracy_score(y_test_reduced, y_pred_reduced), accuracy_score(y_test, y_pred), accuracy_score(y_test_reduced, y_pred_reduced), accuracy_score(y_test, y_pred), accuracy_score(y_test_reduced, y_pred_reduced)],\n",
    "    'Precision': [precision_score(y_test, y_pred), precision_score(y_test_reduced, y_pred_reduced), precision_score(y_test, y_pred), precision_score(y_test_reduced, y_pred_reduced), precision_score(y_test, y_pred), precision_score(y_test_reduced, y_pred_reduced)],\n",
    "    'Recall': [recall_score(y_test, y_pred), recall_score(y_test_reduced, y_pred_reduced), recall_score(y_test, y_pred), recall_score(y_test_reduced, y_pred_reduced), recall_score(y_test, y_pred), recall_score(y_test_reduced, y_pred_reduced)],\n",
    "    'F1 Score': [f1_score(y_test, y_pred), f1_score(y_test_reduced, y_pred_reduced), f1_score(y_test, y_pred), f1_score(y_test_reduced, y_pred_reduced), f1_score(y_test, y_pred), f1_score(y_test_reduced, y_pred_reduced)]\n",
    "}\n",
    "\n",
    "df = pd.DataFrame(performance_metrics)\n",
    "df.to_csv('sbr-performance_metrics.csv', index=False)\n",
    "print(df)"
   ]
  },
  {
   "cell_type": "code",
   "execution_count": 17,
   "metadata": {},
   "outputs": [
    {
     "data": {
      "image/png": "[encoded data removed]",
      "text/plain": [
       "<Figure size 1000x500 with 1 Axes>"
      ]
     },
     "metadata": {},
     "output_type": "display_data"
    }
   ],
   "source": [
    "# Visuaisation of the performance metrics\n",
    "\n",
    "import matplotlib.pyplot as plt\n",
    "import seaborn as sns\n",
    "\n",
    "df = pd.read_csv('sbr-performance_metrics.csv')\n",
    "df = df.melt(id_vars='Model', var_name='Metric', value_name='Value')\n",
    "plt.figure(figsize=(10, 5))\n",
    "sns.barplot(x='Model', y='Value', hue='Metric', data=df)\n",
    "plt.title('Performance Metrics')\n",
    "plt.show()"
   ]
  },
  {
   "cell_type": "code",
   "execution_count": null,
   "metadata": {},
   "outputs": [],
   "source": []
  }
 ],
 "metadata": {
  "kernelspec": {
   "display_name": "Python 3",
   "language": "python",
   "name": "python3"
  },
  "language_info": {
   "codemirror_mode": {
    "name": "ipython",
    "version": 3
   },
   "file_extension": ".py",
   "mimetype": "text/x-python",
   "name": "python",
   "nbconvert_exporter": "python",
   "pygments_lexer": "ipython3",
   "version": "3.11.5"
  }
 },
 "nbformat": 4,
 "nbformat_minor": 2
}
